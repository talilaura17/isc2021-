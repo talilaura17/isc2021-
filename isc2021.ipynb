{
  "nbformat": 4,
  "nbformat_minor": 0,
  "metadata": {
    "colab": {
      "provenance": []
    },
    "kernelspec": {
      "name": "python3",
      "display_name": "Python 3"
    },
    "language_info": {
      "name": "python"
    }
  },
  "cells": [
    {
      "cell_type": "markdown",
      "source": [
        "# isc2021 \n",
        "https://github.com/facebookresearch/isc2021"
      ],
      "metadata": {
        "id": "LsMBzRn3DnLD"
      }
    },
    {
      "cell_type": "markdown",
      "source": [
        "# Step 1"
      ],
      "metadata": {
        "id": "HHAqkeThx3AP"
      }
    },
    {
      "cell_type": "markdown",
      "source": [
        "\n",
        "下載isc2021\n",
        "\n",
        "\n"
      ],
      "metadata": {
        "id": "JrwMuVjWuE7V"
      }
    },
    {
      "cell_type": "code",
      "source": [
        "!git clone https://github.com/facebookresearch/isc2021.git"
      ],
      "metadata": {
        "colab": {
          "base_uri": "https://localhost:8080/"
        },
        "id": "xdik-dHp69mJ",
        "outputId": "10ee28a5-a9d3-4b0e-db44-e88fc6993808"
      },
      "execution_count": 88,
      "outputs": [
        {
          "output_type": "stream",
          "name": "stdout",
          "text": [
            "fatal: destination path 'isc2021' already exists and is not an empty directory.\n"
          ]
        }
      ]
    },
    {
      "cell_type": "markdown",
      "source": [
        "下載套件"
      ],
      "metadata": {
        "id": "ChzKpwpAuOy1"
      }
    },
    {
      "cell_type": "code",
      "source": [
        "try:\n",
        "  import dedalus.public as de\n",
        "  print(\"Dedalus already installed\")\n",
        "except:\n",
        "  print(\"Dedalus not installed yet. Let's do it.\")\n",
        "\n",
        "# Step 1: Install FFTW\n",
        "!apt-get install libfftw3-dev\n",
        "!apt-get install libfftw3-mpi-dev\n",
        "\n",
        "# Step 2: Set paths for Dedalus installation\n",
        "import os\n",
        "os.environ['MPI_INCLUDE_PATH'] = \"/usr/lib/x86_64-linux-gnu/openmpi/include\"\n",
        "os.environ['MPI_LIBRARY_PATH'] = \"/usr/lib/x86_64-linux-gnu\"\n",
        "os.environ['FFTW_INCLUDE_PATH'] = \"/usr/include\"\n",
        "os.environ['FFTW_LIBRARY_PATH'] = \"/usr/lib/x86_64-linux-gnu\"\n",
        "\n",
        "# Step 3: Install Dedalus using pip\n",
        "!pip3 install dedalus\n",
        "\n",
        "# Step 4: Check Dedalus is importable\n",
        "print()\n",
        "print()\n",
        "try:\n",
        "  import dedalus.public as de\n",
        "  print(\"Dedalus successfully installed :)\")\n",
        "except:\n",
        "  print(\"Error installing Dedalus :(\")\n",
        "  raise"
      ],
      "metadata": {
        "colab": {
          "base_uri": "https://localhost:8080/"
        },
        "id": "5dryRdS_B2dZ",
        "outputId": "d33801cd-da2b-4508-a332-13ef1340474d"
      },
      "execution_count": 89,
      "outputs": [
        {
          "output_type": "stream",
          "name": "stdout",
          "text": [
            "Dedalus already installed\n",
            "Reading package lists... Done\n",
            "Building dependency tree       \n",
            "Reading state information... Done\n",
            "libfftw3-dev is already the newest version (3.3.7-1).\n",
            "The following package was automatically installed and is no longer required:\n",
            "  libnvidia-common-460\n",
            "Use 'apt autoremove' to remove it.\n",
            "0 upgraded, 0 newly installed, 0 to remove and 21 not upgraded.\n",
            "Reading package lists... Done\n",
            "Building dependency tree       \n",
            "Reading state information... Done\n",
            "libfftw3-mpi-dev is already the newest version (3.3.7-1).\n",
            "The following package was automatically installed and is no longer required:\n",
            "  libnvidia-common-460\n",
            "Use 'apt autoremove' to remove it.\n",
            "0 upgraded, 0 newly installed, 0 to remove and 21 not upgraded.\n",
            "Looking in indexes: https://pypi.org/simple, https://us-python.pkg.dev/colab-wheels/public/simple/\n",
            "Requirement already satisfied: dedalus in /usr/local/lib/python3.8/dist-packages (2.2207.3)\n",
            "Requirement already satisfied: h5py>=2.10.0 in /usr/local/lib/python3.8/dist-packages (from dedalus) (3.1.0)\n",
            "Requirement already satisfied: scipy>=1.4.0 in /usr/local/lib/python3.8/dist-packages (from dedalus) (1.7.3)\n",
            "Requirement already satisfied: docopt in /usr/local/lib/python3.8/dist-packages (from dedalus) (0.6.2)\n",
            "Requirement already satisfied: pytest-cov in /usr/local/lib/python3.8/dist-packages (from dedalus) (2.9.0)\n",
            "Requirement already satisfied: numpy>=1.20.0 in /usr/local/lib/python3.8/dist-packages (from dedalus) (1.21.6)\n",
            "Requirement already satisfied: pytest in /usr/local/lib/python3.8/dist-packages (from dedalus) (4.3.1)\n",
            "Requirement already satisfied: pytest-benchmark in /usr/local/lib/python3.8/dist-packages (from dedalus) (4.0.0)\n",
            "Requirement already satisfied: py in /usr/local/lib/python3.8/dist-packages (from dedalus) (1.11.0)\n",
            "Requirement already satisfied: matplotlib in /usr/local/lib/python3.8/dist-packages (from dedalus) (3.2.2)\n",
            "Requirement already satisfied: pytest-parallel in /usr/local/lib/python3.8/dist-packages (from dedalus) (0.1.1)\n",
            "Requirement already satisfied: mpi4py>=2.0.0 in /usr/local/lib/python3.8/dist-packages (from dedalus) (3.1.4)\n",
            "Requirement already satisfied: kiwisolver>=1.0.1 in /usr/local/lib/python3.8/dist-packages (from matplotlib->dedalus) (1.4.4)\n",
            "Requirement already satisfied: pyparsing!=2.0.4,!=2.1.2,!=2.1.6,>=2.0.1 in /usr/local/lib/python3.8/dist-packages (from matplotlib->dedalus) (3.0.9)\n",
            "Requirement already satisfied: cycler>=0.10 in /usr/local/lib/python3.8/dist-packages (from matplotlib->dedalus) (0.11.0)\n",
            "Requirement already satisfied: python-dateutil>=2.1 in /usr/local/lib/python3.8/dist-packages (from matplotlib->dedalus) (2.8.2)\n",
            "Requirement already satisfied: more-itertools>=4.0.0 in /usr/local/lib/python3.8/dist-packages (from pytest->dedalus) (9.0.0)\n",
            "Requirement already satisfied: atomicwrites>=1.0 in /usr/local/lib/python3.8/dist-packages (from pytest->dedalus) (1.4.1)\n",
            "Requirement already satisfied: attrs>=17.4.0 in /usr/local/lib/python3.8/dist-packages (from pytest->dedalus) (22.2.0)\n",
            "Requirement already satisfied: six>=1.10.0 in /usr/local/lib/python3.8/dist-packages (from pytest->dedalus) (1.15.0)\n",
            "Requirement already satisfied: pluggy>=0.7 in /usr/local/lib/python3.8/dist-packages (from pytest->dedalus) (0.7.1)\n",
            "Requirement already satisfied: setuptools in /usr/local/lib/python3.8/dist-packages (from pytest->dedalus) (57.4.0)\n",
            "Requirement already satisfied: py-cpuinfo in /usr/local/lib/python3.8/dist-packages (from pytest-benchmark->dedalus) (9.0.0)\n",
            "Requirement already satisfied: coverage>=4.4 in /usr/local/lib/python3.8/dist-packages (from pytest-cov->dedalus) (7.0.4)\n",
            "Requirement already satisfied: tblib in /usr/local/lib/python3.8/dist-packages (from pytest-parallel->dedalus) (1.7.0)\n",
            "\n",
            "\n",
            "Dedalus successfully installed :)\n"
          ]
        }
      ]
    },
    {
      "cell_type": "markdown",
      "source": [
        "執行作者測試"
      ],
      "metadata": {
        "id": "jPIzPK0nuUWU"
      }
    },
    {
      "cell_type": "code",
      "source": [
        "%cd isc2021\n",
        "!ls\n",
        "print(\"...\")\n",
        "\n",
        "%cd lear_gist-1.2\n",
        "!make\n",
        "%cd .."
      ],
      "metadata": {
        "colab": {
          "base_uri": "https://localhost:8080/"
        },
        "id": "_SIu119_DlTr",
        "outputId": "91cda488-d9bd-444d-85a2-d981adbc3070"
      },
      "execution_count": 90,
      "outputs": [
        {
          "output_type": "stream",
          "name": "stdout",
          "text": [
            "/content/isc2021\n",
            "baselines\t    data    lear_gist-1.2  README.md\t     setup.py\n",
            "CODE_OF_CONDUCT.md  docs    LICENSE\t   requirements.txt\n",
            "CONTRIBUTING.md     images  list_files\t   scripts\n",
            "...\n",
            "/content/isc2021/lear_gist-1.2\n",
            "make: Nothing to be done for 'all'.\n",
            "/content/isc2021\n"
          ]
        }
      ]
    },
    {
      "cell_type": "code",
      "source": [
        "!pip install faiss-gpu"
      ],
      "metadata": {
        "colab": {
          "base_uri": "https://localhost:8080/"
        },
        "id": "pfSLoPZ5GKJl",
        "outputId": "e6d39651-c363-4f4c-91f8-897ef16cf23b"
      },
      "execution_count": 91,
      "outputs": [
        {
          "output_type": "stream",
          "name": "stdout",
          "text": [
            "Looking in indexes: https://pypi.org/simple, https://us-python.pkg.dev/colab-wheels/public/simple/\n",
            "Requirement already satisfied: faiss-gpu in /usr/local/lib/python3.8/dist-packages (1.7.2)\n"
          ]
        }
      ]
    },
    {
      "cell_type": "markdown",
      "source": [
        "## 特徵提取\n",
        "先只放10張images做實驗"
      ],
      "metadata": {
        "id": "kNzmy6m3vk9U"
      }
    },
    {
      "cell_type": "markdown",
      "source": [
        "* 特徵提取 - query"
      ],
      "metadata": {
        "id": "sBzcTtokuwO0"
      }
    },
    {
      "cell_type": "code",
      "source": [
        "!python baselines/gist_baseline.py \\\n",
        "    --file_list list_files/subset_1_queries \\\n",
        "    --image_dir images/queries \\\n",
        "    --o data/subset_1_queries_gist.hdf5 \\\n",
        "    --nproc 2"
      ],
      "metadata": {
        "colab": {
          "base_uri": "https://localhost:8080/"
        },
        "id": "i1DTcYaWFAtT",
        "outputId": "54045345-69eb-4491-dd01-47f59b416f02"
      },
      "execution_count": 92,
      "outputs": [
        {
          "output_type": "stream",
          "name": "stdout",
          "text": [
            "args= Namespace(file_list='list_files/subset_1_queries', giststream_exec='lear_gist-1.2/compute_gist_stream', i0=0, i1=-1, image_dir='images/queries', n_train_pca=10000, nproc=2, o='data/subset_1_queries_gist.hdf5', pca_dim=256, pca_file='', pca_white=0.0, train_pca=False, transpose=-1)\n",
            "reading image names from list_files/subset_1_queries\n",
            "hardware_image_description: model name : Intel(R) Xeon(R) CPU @ 2.20GHz, 2 cores\n",
            "  found 10 images\n",
            "computing features\n",
            "processing 0/5 images/queries/Q00061.jpg\rprocessing 0/5 images/queries/Q00846.jpg\rprocessing 1/5 images/queries/Q00324.jpg\rprocessing 2/5 images/queries/Q00338.jpg\rprocessing 1/5 images/queries/Q00906.jpg\rprocessing 3/5 images/queries/Q00748.jpg\rprocessing 2/5 images/queries/Q00911.jpg\rprocessing 4/5 images/queries/Q00814.jpg\rprocessing 3/5 images/queries/Q01094.jpg\rprocessing 4/5 images/queries/Q01114.jpg\r\n",
            "image_description_time: 0.01610 s per image\n",
            "writing descriptors to data/subset_1_queries_gist.hdf5\n"
          ]
        }
      ]
    },
    {
      "cell_type": "markdown",
      "source": [
        "* 特徵提取 - references"
      ],
      "metadata": {
        "id": "vL_1dfISu6lH"
      }
    },
    {
      "cell_type": "code",
      "source": [
        "!python baselines/gist_baseline.py \\\n",
        "    --file_list list_files/subset_1_references \\\n",
        "    --image_dir images/references \\\n",
        "    --o data/subset_1_references_gist.hdf5 \\\n",
        "    --nproc 2"
      ],
      "metadata": {
        "colab": {
          "base_uri": "https://localhost:8080/"
        },
        "id": "b86dnY3CSK45",
        "outputId": "9e6808db-0240-458c-cef2-0f001f8fe7d4"
      },
      "execution_count": 93,
      "outputs": [
        {
          "output_type": "stream",
          "name": "stdout",
          "text": [
            "args= Namespace(file_list='list_files/subset_1_references', giststream_exec='lear_gist-1.2/compute_gist_stream', i0=0, i1=-1, image_dir='images/references', n_train_pca=10000, nproc=2, o='data/subset_1_references_gist.hdf5', pca_dim=256, pca_file='', pca_white=0.0, train_pca=False, transpose=-1)\n",
            "reading image names from list_files/subset_1_references\n",
            "hardware_image_description: model name : Intel(R) Xeon(R) CPU @ 2.20GHz, 2 cores\n",
            "  found 10 images\n",
            "computing features\n",
            "processing 4/5 images/references/R021968.jpg\n",
            "image_description_time: 0.02331 s per image\n",
            "writing descriptors to data/subset_1_references_gist.hdf5\n"
          ]
        }
      ]
    },
    {
      "cell_type": "markdown",
      "source": [
        "Evaluation"
      ],
      "metadata": {
        "id": "DdMzPz4cvG7E"
      }
    },
    {
      "cell_type": "code",
      "source": [
        "!python scripts/compute_metrics.py \\\n",
        "    --query_descs data/subset_1_queries_gist.hdf5 \\\n",
        "    --db_descs data/subset_1_references_gist.hdf5 \\\n",
        "    --gt_filepath list_files/subset_1_ground_truth.csv \\\n",
        "    --track2 \\\n",
        "    --max_dim 1000"
      ],
      "metadata": {
        "colab": {
          "base_uri": "https://localhost:8080/"
        },
        "id": "MJFtqM9ekhIL",
        "outputId": "3ea8ab4e-c2f9-4b3e-9846-34771f31d64e"
      },
      "execution_count": 94,
      "outputs": [
        {
          "output_type": "stream",
          "name": "stdout",
          "text": [
            "Track 2 running matching of 10 queries in 10 database (960D descriptors), max_results=500000.\n",
            "Evaluating 100 predictions (4991 GT matches)\n",
            "Average Precision: 0.00095\n",
            "Recall at P90    : 0.00060\n",
            "Threshold at P90 : -0.259161\n",
            "Recall at rank 1:  0.00100\n",
            "Recall at rank 10: 0.00200\n"
          ]
        }
      ]
    },
    {
      "cell_type": "code",
      "source": [
        "# By adding option --write_predictions data/predictions_subset_1_gist.csv to the script call above, \n",
        "# the predictions will be written out during the metrics computation\n",
        "\n",
        "!python scripts/compute_metrics.py \\\n",
        "    --query_descs data/subset_1_queries_gist.hdf5 \\\n",
        "    --db_descs data/subset_1_references_gist.hdf5 \\\n",
        "    --gt_filepath list_files/subset_1_ground_truth.csv \\\n",
        "    --track2 \\\n",
        "    --max_dim 1000 \\\n",
        "    --write_predictions data/predictions_subset_1_gist.csv"
      ],
      "metadata": {
        "colab": {
          "base_uri": "https://localhost:8080/"
        },
        "id": "lmLUJn6Ilwvr",
        "outputId": "4ad2fe3c-87da-41f2-d47b-d34a2e4f22a9"
      },
      "execution_count": 95,
      "outputs": [
        {
          "output_type": "stream",
          "name": "stdout",
          "text": [
            "Track 2 running matching of 10 queries in 10 database (960D descriptors), max_results=500000.\n",
            "writing predictions to data/predictions_subset_1_gist.csv\n",
            "Evaluating 100 predictions (4991 GT matches)\n",
            "Average Precision: 0.00095\n",
            "Recall at P90    : 0.00060\n",
            "Threshold at P90 : -0.259161\n",
            "Recall at rank 1:  0.00100\n",
            "Recall at rank 10: 0.00200\n"
          ]
        }
      ]
    },
    {
      "cell_type": "code",
      "source": [
        "!python scripts/compute_metrics.py \\\n",
        "    --preds_filepath data/predictions_subset_1_gist.csv \\\n",
        "    --gt_filepath list_files/subset_1_ground_truth.csv"
      ],
      "metadata": {
        "colab": {
          "base_uri": "https://localhost:8080/"
        },
        "id": "4rxD8Py4mFDh",
        "outputId": "af831b5e-c73d-4c92-8e1c-3592057c8418"
      },
      "execution_count": 96,
      "outputs": [
        {
          "output_type": "stream",
          "name": "stdout",
          "text": [
            "Track 1 results of 100 predictions (4991 GT matches)\n",
            "Average Precision: 0.00095\n",
            "Recall at P90    : 0.00060\n",
            "Threshold at P90 : -0.259161\n",
            "Recall at rank 1:  0.00100\n",
            "Recall at rank 10: 0.00200\n"
          ]
        }
      ]
    },
    {
      "cell_type": "code",
      "source": [
        "!sort -n -r -t , -k 3 data/predictions_subset_1_gist.csv"
      ],
      "metadata": {
        "colab": {
          "base_uri": "https://localhost:8080/"
        },
        "id": "9KIRaDdimQ4s",
        "outputId": "70574e79-32e8-42f7-d02e-c2cbeb5821f0"
      },
      "execution_count": 97,
      "outputs": [
        {
          "output_type": "stream",
          "name": "stdout",
          "text": [
            "query_id,reference_id,score\n",
            "Q00911,R044290,-0.067817\n",
            "Q00748,R007851,-0.119448\n",
            "Q00814,R032607,-0.259161\n",
            "Q00846,R007851,-0.268971\n",
            "Q00748,R032607,-0.304911\n",
            "Q00061,R014120,-0.308655\n",
            "Q01094,R026396,-0.310027\n",
            "Q00846,R032607,-0.313044\n",
            "Q00911,R021968,-0.322693\n",
            "Q00911,R033260,-0.340907\n",
            "Q00061,R032607,-0.344489\n",
            "Q00906,R014120,-0.358589\n",
            "Q00846,R044290,-0.363175\n",
            "Q00748,R021968,-0.370004\n",
            "Q00846,R021968,-0.371518\n",
            "Q00911,R032607,-0.390635\n",
            "Q00748,R044290,-0.390966\n",
            "Q01094,R014120,-0.394493\n",
            "Q00061,R021968,-0.396236\n",
            "Q01094,R044290,-0.399052\n",
            "Q01114,R044290,-0.399519\n",
            "Q01094,R032607,-0.400202\n",
            "Q00846,R014120,-0.402414\n",
            "Q00061,R007851,-0.411225\n",
            "Q00061,R003142,-0.414866\n",
            "Q00748,R014120,-0.415114\n",
            "Q00911,R007851,-0.423515\n",
            "Q00061,R044290,-0.430151\n",
            "Q00911,R014120,-0.443364\n",
            "Q00814,R044290,-0.444091\n",
            "Q00911,R044970,-0.458363\n",
            "Q01114,R021968,-0.459355\n",
            "Q00846,R033260,-0.463421\n",
            "Q01094,R021968,-0.466323\n",
            "Q01114,R033260,-0.476734\n",
            "Q00814,R007851,-0.486914\n",
            "Q00338,R033260,-0.491402\n",
            "Q00748,R044970,-0.494966\n",
            "Q00748,R033260,-0.498082\n",
            "Q00324,R021968,-0.503195\n",
            "Q00906,R003142,-0.505510\n",
            "Q00846,R003142,-0.507544\n",
            "Q00846,R026396,-0.508637\n",
            "Q01094,R007851,-0.513470\n",
            "Q00906,R021968,-0.514404\n",
            "Q00748,R003142,-0.516100\n",
            "Q00814,R026396,-0.516939\n",
            "Q00906,R044290,-0.520966\n",
            "Q00814,R033260,-0.524312\n",
            "Q00061,R026396,-0.527543\n",
            "Q00911,R003142,-0.533108\n",
            "Q00338,R032607,-0.537730\n",
            "Q00338,R044290,-0.544242\n",
            "Q00906,R032607,-0.546599\n",
            "Q01114,R014120,-0.548717\n",
            "Q00814,R014120,-0.558428\n",
            "Q01114,R032607,-0.560435\n",
            "Q01094,R003142,-0.573552\n",
            "Q00814,R021968,-0.585675\n",
            "Q01114,R044970,-0.596388\n",
            "Q00748,R026396,-0.601003\n",
            "Q00061,R033260,-0.602018\n",
            "Q01114,R007851,-0.604138\n",
            "Q01114,R003142,-0.609356\n",
            "Q01094,R020965,-0.616221\n",
            "Q00814,R003142,-0.618100\n",
            "Q00324,R032607,-0.620564\n",
            "Q00846,R044970,-0.627076\n",
            "Q00906,R007851,-0.647839\n",
            "Q00061,R044970,-0.651751\n",
            "Q00906,R033260,-0.652677\n",
            "Q00324,R044290,-0.653197\n",
            "Q00911,R026396,-0.657772\n",
            "Q00324,R007851,-0.671064\n",
            "Q01094,R033260,-0.677329\n",
            "Q00911,R020965,-0.680150\n",
            "Q00324,R014120,-0.689768\n",
            "Q00846,R020965,-0.697028\n",
            "Q00061,R020965,-0.697107\n",
            "Q00338,R003142,-0.700608\n",
            "Q00338,R026396,-0.702900\n",
            "Q00338,R014120,-0.715866\n",
            "Q00324,R044970,-0.720765\n",
            "Q00814,R020965,-0.723469\n",
            "Q00324,R033260,-0.726290\n",
            "Q00748,R020965,-0.727181\n",
            "Q00324,R003142,-0.737663\n",
            "Q00906,R026396,-0.757376\n",
            "Q01114,R026396,-0.769222\n",
            "Q00338,R021968,-0.797008\n",
            "Q00906,R044970,-0.811916\n",
            "Q00906,R020965,-0.844938\n",
            "Q00814,R044970,-0.851850\n",
            "Q01094,R044970,-0.866549\n",
            "Q01114,R020965,-0.867963\n",
            "Q00338,R007851,-0.877969\n",
            "Q00338,R020965,-0.904633\n",
            "Q00324,R026396,-0.918330\n",
            "Q00338,R044970,-1.030517\n",
            "Q00324,R020965,-1.071473\n"
          ]
        }
      ]
    },
    {
      "cell_type": "code",
      "source": [
        "# Evaluation with the official script\n",
        "!python scripts/convert_track2_format.py \\\n",
        "    --query_descs data/subset_1_queries_gist.hdf5 \\\n",
        "    --db_descs data/subset_1_references_gist.hdf5 \\\n",
        "    --o data/subset_1_descriptors.hdf5"
      ],
      "metadata": {
        "colab": {
          "base_uri": "https://localhost:8080/"
        },
        "id": "OyxENP4Pwtcf",
        "outputId": "484f8d04-10f3-4374-ccf6-5c28a23df28e"
      },
      "execution_count": 98,
      "outputs": [
        {
          "output_type": "stream",
          "name": "stdout",
          "text": [
            "warning, dimension 960 is larger than allowed for track 2\n",
            "writing data/subset_1_descriptors.hdf5\n"
          ]
        }
      ]
    },
    {
      "cell_type": "code",
      "source": [
        "!python eval_metrics.py \\\n",
        "        data/predictions_subset_1_gist.csv \\\n",
        "        list_files/subset_1_ground_truth.csv"
      ],
      "metadata": {
        "colab": {
          "base_uri": "https://localhost:8080/"
        },
        "id": "FhHvaUBQmgyj",
        "outputId": "bc5be603-312e-43b7-ec30-594143d48f2c"
      },
      "execution_count": 99,
      "outputs": [
        {
          "output_type": "stream",
          "name": "stdout",
          "text": [
            "python3: can't open file 'eval_metrics.py': [Errno 2] No such file or directory\n"
          ]
        }
      ]
    },
    {
      "cell_type": "markdown",
      "source": [
        "# Step 2"
      ],
      "metadata": {
        "id": "D__seZV9x7SW"
      }
    },
    {
      "cell_type": "markdown",
      "source": [
        "## 特徵提取"
      ],
      "metadata": {
        "id": "V0XS7UhCyJ_P"
      }
    },
    {
      "cell_type": "markdown",
      "source": [
        "訓練 PCA"
      ],
      "metadata": {
        "id": "6GawowPi58KS"
      }
    },
    {
      "cell_type": "code",
      "source": [
        "!python baselines/gist_baseline.py  \\\n",
        "      --pca_dim 30 \\\n",
        "      --file_list list_files/train \\\n",
        "      --image_dir images/train \\\n",
        "      --nproc 2 \\\n",
        "      --pca_file data/pca_gist.vt \\\n",
        "      --n_train_pca 101 \\\n",
        "      --train_pca"
      ],
      "metadata": {
        "colab": {
          "base_uri": "https://localhost:8080/"
        },
        "id": "oNZTXk7hx_zk",
        "outputId": "e7efb23a-9a97-4d6d-84b7-2af9e6cf51e1"
      },
      "execution_count": 107,
      "outputs": [
        {
          "output_type": "stream",
          "name": "stdout",
          "text": [
            "args= Namespace(file_list='list_files/train', giststream_exec='lear_gist-1.2/compute_gist_stream', i0=0, i1=-1, image_dir='images/train', n_train_pca=101, nproc=2, o='/tmp/desc.hdf5', pca_dim=30, pca_file='data/pca_gist.vt', pca_white=0.0, train_pca=True, transpose=-1)\n",
            "reading image names from list_files/train\n",
            "hardware_image_description: model name : Intel(R) Xeon(R) CPU @ 2.20GHz, 2 cores\n",
            "  found 101 images\n",
            "subsampled 101 vectors\n",
            "computing features\n",
            "processing 50/51 images/train/T000066.jpg\n",
            "image_description_time: 0.01476 s per image\n",
            "Train PCA 960 -> 30\n",
            "Storing PCA to data/pca_gist.vt\n"
          ]
        }
      ]
    },
    {
      "cell_type": "markdown",
      "source": [
        "運行特徵提取"
      ],
      "metadata": {
        "id": "JxFZ2xmD6IBa"
      }
    },
    {
      "cell_type": "code",
      "source": [
        "!python baselines/gist_baseline.py \\\n",
        "    --file_list list_files/subset_1_queries \\\n",
        "    --image_dir images/queries \\\n",
        "    --o data/subset_1_queries_gist_pca.hdf5 \\\n",
        "    --pca_file data/pca_gist.vt \\\n",
        "    --nproc 2"
      ],
      "metadata": {
        "colab": {
          "base_uri": "https://localhost:8080/"
        },
        "id": "8vbPRmYI5sgJ",
        "outputId": "7ea34b02-a07a-414b-ff92-e124140ac8c5"
      },
      "execution_count": 109,
      "outputs": [
        {
          "output_type": "stream",
          "name": "stdout",
          "text": [
            "args= Namespace(file_list='list_files/subset_1_queries', giststream_exec='lear_gist-1.2/compute_gist_stream', i0=0, i1=-1, image_dir='images/queries', n_train_pca=10000, nproc=2, o='data/subset_1_queries_gist_pca.hdf5', pca_dim=256, pca_file='data/pca_gist.vt', pca_white=0.0, train_pca=False, transpose=-1)\n",
            "reading image names from list_files/subset_1_queries\n",
            "hardware_image_description: model name : Intel(R) Xeon(R) CPU @ 2.20GHz, 2 cores\n",
            "  found 10 images\n",
            "computing features\n",
            "processing 0/5 images/queries/Q00061.jpg\rprocessing 0/5 images/queries/Q00846.jpg\rprocessing 1/5 images/queries/Q00324.jpg\rprocessing 2/5 images/queries/Q00338.jpg\rprocessing 1/5 images/queries/Q00906.jpg\rprocessing 3/5 images/queries/Q00748.jpg\rprocessing 2/5 images/queries/Q00911.jpg\rprocessing 4/5 images/queries/Q00814.jpg\rprocessing 3/5 images/queries/Q01094.jpg\rprocessing 4/5 images/queries/Q01114.jpg\r\n",
            "image_description_time: 0.01552 s per image\n",
            "Load PCA matrix data/pca_gist.vt\n",
            "Apply PCA 960 -> 30\n",
            "writing descriptors to data/subset_1_queries_gist_pca.hdf5\n"
          ]
        }
      ]
    },
    {
      "cell_type": "code",
      "source": [
        "!python baselines/gist_baseline.py \\\n",
        "    --file_list list_files/subset_1_references \\\n",
        "    --image_dir images/references \\\n",
        "    --o data/subset_1_references_gist_pca.hdf5 \\\n",
        "    --pca_file data/pca_gist.vt \\\n",
        "    --nproc 2"
      ],
      "metadata": {
        "colab": {
          "base_uri": "https://localhost:8080/"
        },
        "id": "yGuFBcBL_Y6K",
        "outputId": "a0bf93e4-b818-4a99-c543-9267304d7acc"
      },
      "execution_count": 110,
      "outputs": [
        {
          "output_type": "stream",
          "name": "stdout",
          "text": [
            "args= Namespace(file_list='list_files/subset_1_references', giststream_exec='lear_gist-1.2/compute_gist_stream', i0=0, i1=-1, image_dir='images/references', n_train_pca=10000, nproc=2, o='data/subset_1_references_gist_pca.hdf5', pca_dim=256, pca_file='data/pca_gist.vt', pca_white=0.0, train_pca=False, transpose=-1)\n",
            "reading image names from list_files/subset_1_references\n",
            "hardware_image_description: model name : Intel(R) Xeon(R) CPU @ 2.20GHz, 2 cores\n",
            "  found 10 images\n",
            "computing features\n",
            "processing 0/5 images/references/R033260.jpg\rprocessing 0/5 images/references/R020965.jpg\rprocessing 1/5 images/references/R014120.jpg\rprocessing 1/5 images/references/R044970.jpg\rprocessing 2/5 images/references/R044290.jpg\rprocessing 2/5 images/references/R003142.jpg\rprocessing 3/5 images/references/R026396.jpg\rprocessing 3/5 images/references/R007851.jpg\rprocessing 4/5 images/references/R021968.jpg\rprocessing 4/5 images/references/R032607.jpg\r\n",
            "image_description_time: 0.01981 s per image\n",
            "Load PCA matrix data/pca_gist.vt\n",
            "Apply PCA 960 -> 30\n",
            "writing descriptors to data/subset_1_references_gist_pca.hdf5\n"
          ]
        }
      ]
    },
    {
      "cell_type": "markdown",
      "source": [
        "Evalute"
      ],
      "metadata": {
        "id": "O-VDD2dA_icS"
      }
    },
    {
      "cell_type": "code",
      "source": [
        "!python scripts/compute_metrics.py \\\n",
        "    --query_descs data/subset_1_queries_gist_pca.hdf5 \\\n",
        "    --db_descs data/subset_1_references_gist_pca.hdf5 \\\n",
        "    --gt_filepath list_files/subset_1_ground_truth.csv \\\n",
        "    --track2"
      ],
      "metadata": {
        "colab": {
          "base_uri": "https://localhost:8080/"
        },
        "id": "aVMyHIBs_fny",
        "outputId": "b32a109e-8d2b-4010-d81b-48231a49605e"
      },
      "execution_count": 111,
      "outputs": [
        {
          "output_type": "stream",
          "name": "stdout",
          "text": [
            "Track 2 running matching of 10 queries in 10 database (30D descriptors), max_results=500000.\n",
            "Evaluating 100 predictions (4991 GT matches)\n",
            "Average Precision: 0.00093\n",
            "Recall at P90    : 0.00040\n",
            "Threshold at P90 : -0.0238483\n",
            "Recall at rank 1:  0.00100\n",
            "Recall at rank 10: 0.00200\n"
          ]
        }
      ]
    }
  ]
}